{
 "cells": [
  {
   "cell_type": "markdown",
   "metadata": {},
   "source": [
    "<h1>ROCKS CHALLENGE: Image Classification (Resnet50)</h1>"
   ]
  },
  {
   "cell_type": "markdown",
   "metadata": {},
   "source": [
    "<h2>1) Import all dependencies</h2>"
   ]
  },
  {
   "cell_type": "code",
   "execution_count": 1,
   "metadata": {},
   "outputs": [],
   "source": [
    "import numpy as np\n",
    "import matplotlib.pyplot as plt\n",
    "import tensorflow as tf\n",
    "from tensorflow import keras\n",
    "from tensorflow.keras.preprocessing.image import ImageDataGenerator\n",
    "from tensorflow.keras.applications import ResNet50  \n",
    "from tensorflow.keras.applications.resnet50 import preprocess_input\n",
    "from tensorflow.keras import Model, layers\n",
    "from tensorflow.keras.models import load_model, model_from_json"
   ]
  },
  {
   "cell_type": "markdown",
   "metadata": {},
   "source": [
    " <h2>2) Import data</h2>"
   ]
  },
  {
   "cell_type": "code",
   "execution_count": 2,
   "metadata": {},
   "outputs": [],
   "source": [
    "train_dir = './data/train'\n",
    "val_dir   = './data/val'\n",
    "test_dir  = './data/test'"
   ]
  },
  {
   "cell_type": "code",
   "execution_count": 3,
   "metadata": {},
   "outputs": [
    {
     "name": "stdout",
     "output_type": "stream",
     "text": [
      "Found 6813 images belonging to 4 classes.\n",
      "Found 847 images belonging to 4 classes.\n",
      "Found 850 images belonging to 4 classes.\n"
     ]
    }
   ],
   "source": [
    "#Load Train data\n",
    "train_datagen = ImageDataGenerator(\n",
    "    shear_range=10,\n",
    "    zoom_range=0.2,\n",
    "    horizontal_flip=True,\n",
    "    preprocessing_function=preprocess_input)\n",
    "\n",
    "train_generator = train_datagen.flow_from_directory(\n",
    "    train_dir,\n",
    "    batch_size=32,\n",
    "    class_mode='binary',\n",
    "    target_size=(160,160))\n",
    "\n",
    "#Load Validation data\n",
    "validation_datagen = ImageDataGenerator(\n",
    "    preprocessing_function=preprocess_input)\n",
    "\n",
    "validation_generator = validation_datagen.flow_from_directory(\n",
    "    val_dir,\n",
    "    shuffle=False,\n",
    "    class_mode='sparse',\n",
    "    target_size=(160,160))\n",
    "\n",
    "#Load Test data\n",
    "test_datagen = ImageDataGenerator(preprocessing_function=preprocess_input)\n",
    "test_generator = test_datagen.flow_from_directory(\n",
    "    test_dir,\n",
    "    shuffle=False,\n",
    "    class_mode='sparse',\n",
    "    target_size=(160,160))"
   ]
  },
  {
   "cell_type": "markdown",
   "metadata": {},
   "source": [
    "<h2>3) Load ResNet50 Model</h2>\n"
   ]
  },
  {
   "cell_type": "code",
   "execution_count": 4,
   "metadata": {},
   "outputs": [],
   "source": [
    "conv_base = ResNet50(input_shape=(160,160,3),\n",
    "                    include_top=False, \n",
    "                    weights='imagenet')\n",
    "\n",
    "for layer in conv_base.layers:\n",
    "    layer.trainable = False"
   ]
  },
  {
   "cell_type": "markdown",
   "metadata": {},
   "source": [
    "<h2>4) Set fully connected layer</h2>"
   ]
  },
  {
   "cell_type": "code",
   "execution_count": 5,
   "metadata": {},
   "outputs": [],
   "source": [
    "x = conv_base.output\n",
    "x = layers.GlobalAveragePooling2D()(x)\n",
    "x = layers.Dense(128, activation='relu')(x) \n",
    "predictions = layers.Dense(4, activation='softmax')(x)\n",
    "model = Model(conv_base.input, predictions)"
   ]
  },
  {
   "cell_type": "markdown",
   "metadata": {},
   "source": [
    "<h2>5) Set training parameters</h2>\n"
   ]
  },
  {
   "cell_type": "code",
   "execution_count": 6,
   "metadata": {},
   "outputs": [],
   "source": [
    "optimizer = keras.optimizers.RMSprop(learning_rate=1e-5)\n",
    "model.compile(loss='sparse_categorical_crossentropy', optimizer=optimizer, metrics=['accuracy'])\n",
    "\n",
    "callbacks = [\n",
    "    tf.keras.callbacks.EarlyStopping(patience=2),\n",
    "    tf.keras.callbacks.ModelCheckpoint(filepath='./models/resnet50_.{epoch:02d}.h5'),\n",
    "    tf.keras.callbacks.TensorBoard(log_dir='./logs'),\n",
    "]"
   ]
  },
  {
   "cell_type": "code",
   "execution_count": 7,
   "metadata": {},
   "outputs": [
    {
     "name": "stderr",
     "output_type": "stream",
     "text": [
      "C:\\Users\\mat\\anaconda3\\envs\\tf-gpu\\lib\\site-packages\\tensorflow\\python\\keras\\utils\\generic_utils.py:494: CustomMaskWarning: Custom mask layers require a config and must override get_config. When loading, the custom mask layer must be passed to the custom_objects argument.\n",
      "  warnings.warn('Custom mask layers require a config and must override '\n"
     ]
    },
    {
     "name": "stdout",
     "output_type": "stream",
     "text": [
      "Epoch 1/20\n",
      "213/213 [==============================] - 343s 2s/step - loss: 0.8972 - accuracy: 0.6297 - val_loss: 0.4376 - val_accuracy: 0.8394\n",
      "Epoch 2/20\n",
      "213/213 [==============================] - 98s 460ms/step - loss: 0.3596 - accuracy: 0.8607 - val_loss: 0.2898 - val_accuracy: 0.8819\n",
      "Epoch 3/20\n",
      "213/213 [==============================] - 120s 560ms/step - loss: 0.2818 - accuracy: 0.8852 - val_loss: 0.2557 - val_accuracy: 0.8961\n",
      "Epoch 4/20\n",
      "213/213 [==============================] - 124s 584ms/step - loss: 0.2542 - accuracy: 0.8939 - val_loss: 0.2419 - val_accuracy: 0.8961\n",
      "Epoch 5/20\n",
      "213/213 [==============================] - 124s 584ms/step - loss: 0.2353 - accuracy: 0.9009 - val_loss: 0.2343 - val_accuracy: 0.8973\n",
      "Epoch 6/20\n",
      "213/213 [==============================] - 126s 594ms/step - loss: 0.2259 - accuracy: 0.9075 - val_loss: 0.2286 - val_accuracy: 0.8985\n",
      "Epoch 7/20\n",
      "213/213 [==============================] - 116s 546ms/step - loss: 0.2200 - accuracy: 0.9083 - val_loss: 0.2261 - val_accuracy: 0.8961\n",
      "Epoch 8/20\n",
      "213/213 [==============================] - 132s 618ms/step - loss: 0.2154 - accuracy: 0.9135 - val_loss: 0.2266 - val_accuracy: 0.8985\n",
      "Epoch 9/20\n",
      "213/213 [==============================] - 127s 597ms/step - loss: 0.2134 - accuracy: 0.9131 - val_loss: 0.2230 - val_accuracy: 0.9044\n",
      "Epoch 10/20\n",
      "213/213 [==============================] - 133s 623ms/step - loss: 0.2092 - accuracy: 0.9090 - val_loss: 0.2214 - val_accuracy: 0.9020\n",
      "Epoch 11/20\n",
      "213/213 [==============================] - 129s 604ms/step - loss: 0.2068 - accuracy: 0.9162 - val_loss: 0.2199 - val_accuracy: 0.9055\n",
      "Epoch 12/20\n",
      "213/213 [==============================] - 137s 644ms/step - loss: 0.2079 - accuracy: 0.9137 - val_loss: 0.2186 - val_accuracy: 0.9055\n",
      "Epoch 13/20\n",
      "213/213 [==============================] - 125s 586ms/step - loss: 0.2050 - accuracy: 0.9143 - val_loss: 0.2191 - val_accuracy: 0.9032\n",
      "Epoch 14/20\n",
      "213/213 [==============================] - 125s 585ms/step - loss: 0.2014 - accuracy: 0.9144 - val_loss: 0.2192 - val_accuracy: 0.9032\n"
     ]
    }
   ],
   "source": [
    "tf.debugging.set_log_device_placement(True)\n",
    "try:\n",
    "    with tf.device('/device:GPU:0'):\n",
    "        history = model.fit(\n",
    "                              train_generator,\n",
    "                              epochs=20,\n",
    "                              validation_data=validation_generator,\n",
    "                              callbacks = callbacks\n",
    "                             )\n",
    "except RuntimeError as e:\n",
    "    print(e)"
   ]
  },
  {
   "cell_type": "markdown",
   "metadata": {},
   "source": [
    "<h2>7) Show model accuracy history</h2>"
   ]
  },
  {
   "cell_type": "code",
   "execution_count": 8,
   "metadata": {},
   "outputs": [
    {
     "data": {
      "image/png": "[encoded data removed]",
      "text/plain": [
       "<Figure size 432x288 with 1 Axes>"
      ]
     },
     "metadata": {
      "needs_background": "light"
     },
     "output_type": "display_data"
    }
   ],
   "source": [
    "#batch size = 32; learning rate = 1e-5\n",
    "plt.plot(history.history['accuracy'])\n",
    "plt.plot(history.history['val_accuracy'])\n",
    "plt.title('model accuracy')\n",
    "plt.ylabel('accuracy')\n",
    "plt.xlabel('epoch')\n",
    "plt.legend(['train', 'test'], loc='upper left')\n",
    "plt.show()"
   ]
  },
  {
   "cell_type": "markdown",
   "metadata": {},
   "source": [
    "<h2>8) Load saved model</h2>"
   ]
  },
  {
   "cell_type": "code",
   "execution_count": 10,
   "metadata": {},
   "outputs": [],
   "source": [
    "model = keras.models.load_model('./models/resnet50_top.h5')"
   ]
  },
  {
   "cell_type": "markdown",
   "metadata": {},
   "source": [
    "<h2>9) Evaluation of the model on data test</h2>"
   ]
  },
  {
   "cell_type": "code",
   "execution_count": 11,
   "metadata": {},
   "outputs": [
    {
     "name": "stdout",
     "output_type": "stream",
     "text": [
      "27/27 [==============================] - 10s 336ms/step - loss: 0.2104 - accuracy: 0.9153\n"
     ]
    },
    {
     "data": {
      "text/plain": [
       "[0.21036697924137115, 0.9152941107749939]"
      ]
     },
     "execution_count": 11,
     "metadata": {},
     "output_type": "execute_result"
    }
   ],
   "source": [
    "model.evaluate(test_generator)"
   ]
  },
  {
   "cell_type": "code",
   "execution_count": null,
   "metadata": {},
   "outputs": [],
   "source": []
  }
 ],
 "metadata": {
  "interpreter": {
   "hash": "04b79ded01bcd18aae8d4476a676b58414529133715e4e28eae08ecddd66400d"
  },
  "kernelspec": {
   "display_name": "Python 3.9.7 64-bit ('tf-gpu': conda)",
   "language": "python",
   "name": "python3"
  },
  "language_info": {
   "codemirror_mode": {
    "name": "ipython",
    "version": 3
   },
   "file_extension": ".py",
   "mimetype": "text/x-python",
   "name": "python",
   "nbconvert_exporter": "python",
   "pygments_lexer": "ipython3",
   "version": "3.9.7"
  },
  "orig_nbformat": 4
 },
 "nbformat": 4,
 "nbformat_minor": 2
}
